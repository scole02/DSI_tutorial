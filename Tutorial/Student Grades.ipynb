{
 "cells": [
  {
   "cell_type": "markdown",
   "metadata": {},
   "source": [
    "# Visualizing your own Data\n",
    "\n",
    "This notebook will show you how to use data from your own classes and create visualizations to help you better understand the data\n",
    "\n",
    "## Prerequisites\n",
    "\n",
    "This notebook requires you to have a `.csv`file containing info on students and their grades. Any spreadsheet created in Excel or a similiar program can be exported as a `.csv` file. To do this in excel, just click the \"Save as\"  button and select \".csv\"\n",
    "\n",
    "### Import Packages\n",
    "Run the cell below to import the `pandas` library that will be used in this notebook"
   ]
  },
  {
   "cell_type": "code",
   "execution_count": null,
   "metadata": {},
   "outputs": [],
   "source": [
    "import pandas as pd"
   ]
  },
  {
   "cell_type": "markdown",
   "metadata": {},
   "source": [
    "### Formatting\n",
    "\n",
    "Your data should be formatted such that each row corresponds to a student, and each column corresponds to an assignment, project, final grade etc. \n",
    "\n",
<<<<<<< HEAD
    "For optimal results, ensure that the cells not including student names, **contain integers or decimal values**. Using a letter or string will not work. Also make sure that there are **no empty cells**. For example, if a student did not turn in their third lab, that cell must contain a 0 or some other number. **Any rows** containing blank cells will be **removed** later on.  \n",
    "  \n",
=======
    "For optimal results, ensure that the cells not including student names, **contain integers or decimal values**. Using a letter or string will not work. Also make sure that there are **no empty cells**. For example, if a student did not turn in their third lab, that cell must contain a 0 or some other number. **Any rows** containing blank cells will be **removed** later on.\n",
    "\n",
    "Below is an example of what a spreadsheet containing grades and students might look like **before** being exported as a `.csv`\n",
    "\n",
    "<img src=\"../DSI_notebook_images/csv_example.png\" width=\"200\"/>\n",
    "\n",
>>>>>>> 7a744210af2f7c7325ea2fba38480df8c1d59c2e
    "\n",
    "   \n",
    "## Importing Data\n",
    "To import your `.csv` file(s) and use it in this notebook:\n",
    "\n",
    "1. Make sure that the `.csv` file is present in the same folder/directory as this notebook. (Refer to the `README.md` on the github page for instructions on how to **upload** files to JupyterHub.)  \n",
    "<br>  \n",
    "\n",
    "2. Fill and run the `csv_filepath` variable in the cell below with the name of your `.csv` file. (Make sure the name is within quotes -->   `\" \"` )"
   ]
  },
  {
   "cell_type": "code",
   "execution_count": null,
   "metadata": {},
   "outputs": [],
   "source": [
    "### YOUR CODE HERE ###\n",
    "csv_filepath_pre_covid = '' # this should be the pre COVID dataset if available\n",
    "csv_filepath_covid = ''\n",
    "### END ###"
   ]
  },
  {
   "cell_type": "markdown",
   "metadata": {},
   "source": [
    "3. Run the cell below to import the `.csv` file into a `pandas` `DataFrame` object. This is a data structure from the `pandas` library that allows for large data collections and importing files. The function `df.head()` shows the first few rows of a `Dataframe`."
   ]
  },
  {
   "cell_type": "code",
   "execution_count": null,
   "metadata": {},
   "outputs": [],
   "source": [
    "# display the pre covid dataset\n",
    "df_pre_covid = pd.read_csv(csv_filepath_pre_covid)\n",
    "df_pre_covid.head()"
   ]
  },
  {
   "cell_type": "code",
   "execution_count": null,
   "metadata": {},
   "outputs": [],
   "source": [
    "# display the covid dataset\n",
    "df_covid = pd.read_csv(csv_filepath_covid)\n",
    "df_covid.head()"
   ]
  },
  {
   "cell_type": "markdown",
   "metadata": {},
   "source": [
    "4. \"Clean\" the `DataFrame` by running the cell below. This cell calls the `dropna()` function that will remove all rows that contain undefined values displayed as `NaN` in the `DataFrame` when printed. These `NaN` values can disrupt the graphing if not removed."
   ]
  },
  {
   "cell_type": "code",
   "execution_count": null,
   "metadata": {},
   "outputs": [],
   "source": [
    "df_pre_covid = df_pre_covid.dropna()\n",
    "df_covid = df_covid.dropna()"
   ]
  },
  {
   "cell_type": "markdown",
   "metadata": {},
   "source": [
    "## Modifying the Column headers\n",
    "\n",
    "If you are using datasets for the same class but different quarters, chances are that the columns in both of these files have the same names. In order to differentiate between these columns, lets add a suffix to both of these files indicating that they are `pre_covid` or `covid`.   \n",
    "  \n",
    "NOTE: If you accidently run this cell more than once, the suffix will be added multiple times. Simply repeat step 3 to create a clean `Dataframe` if this happens."
   ]
  },
  {
   "cell_type": "code",
   "execution_count": null,
   "metadata": {},
   "outputs": [],
   "source": [
    "suffix_pre_covid = \"_pre_covid\"\n",
    "\n",
    " # add \"_pre_covid\" to the end of column name, for each column in df_pre_covid\n",
    "df_pre_covid.columns = [str(col) + suffix_pre_covid for col in df_pre_covid.columns]\n",
    "df_pre_covid.head()"
   ]
  },
  {
   "cell_type": "code",
   "execution_count": null,
   "metadata": {
    "scrolled": false
   },
   "outputs": [],
   "source": [
    "suffix_covid = \"_covid\"\n",
    "\n",
    "df_covid.columns = [str(col) + suffix_covid for col in df_covid.columns]\n",
    "df_covid.head()"
   ]
  },
  {
   "cell_type": "markdown",
   "metadata": {},
   "source": [
    "## Combining the Datasets\n",
    "Now that each of the columns in our datasets have different suffixes, lets combine these datasets into a single `Dataframe`so we can begin graphing! We can call `pd.concat()` to do this."
   ]
  },
  {
   "cell_type": "code",
   "execution_count": null,
   "metadata": {},
   "outputs": [],
   "source": [
    "df_full = pd.concat([df_pre_covid, df_covid], axis=1)\n",
    "df_full = df_full.dropna()\n",
    "df_full.head()"
   ]
  },
  {
   "cell_type": "markdown",
   "metadata": {},
   "source": [
    "## Graphing the Dataset\n",
    "\n",
    "For this notebook we will be creating simple **box and whisker plots** that allow for viewing the mean, median, quartiles, and bounds of a particular dataset. We will create these plots for assignments in your dataset, allowing for the visualization of individual individual assignments for the entire class. This also allows us to compare assignments across different quarters.\n",
    "\n",
    "### DataFrames\n",
    "A `DataFrame` can be thought of as a hybrid `list` and `dictionary`. Like a `dictionary`, `DataFrames` have **keys**. These keys refer to the **columns** in the `DataFrame`\n",
    "\n",
    "Run the cell below to see a list of all the keys present in your dataset"
   ]
  },
  {
   "cell_type": "code",
   "execution_count": null,
   "metadata": {
    "scrolled": true
   },
   "outputs": [],
   "source": [
    "df_full.keys()"
   ]
  },
  {
   "cell_type": "markdown",
   "metadata": {},
   "source": [
    "In the cell below, fill out the variable `third_column` using the **third key** in your dataset. (This should be the third key in the output of the cell above.)"
   ]
  },
  {
   "cell_type": "code",
   "execution_count": null,
   "metadata": {},
   "outputs": [],
   "source": [
    "### YOUR CODE HERE ###\n",
    "third_column = df_full['']\n",
    "### END ###\n",
    "print(third_column)"
   ]
  },
  {
   "cell_type": "markdown",
   "metadata": {},
   "source": [
    "Now assign a column from your dataset to the variable below, using a **key** from your dataset.  \n",
    "Since each key corresponds to a **column** this variable will contain all the values or scores for the column you choose.\n",
    "\n",
    "For optimal graphing results later, choose a column that has a **wide distribution** of values."
   ]
  },
  {
   "cell_type": "code",
   "execution_count": null,
   "metadata": {},
   "outputs": [],
   "source": [
    "### YOUR CODE HERE ###\n",
    "key = ''\n",
    "### END ###\n",
    "print(df_full[key])"
   ]
  },
  {
   "cell_type": "markdown",
   "metadata": {},
   "source": [
    "### Visualization\n",
    "Now we can visualize the dataset. This is particularly easy using `pandas` and we can simply call the `boxplot()` function present in every dataframe.  \n",
    "  \n",
    "Run the cell below to see a plot of the column that you chose in the cell above"
   ]
  },
  {
   "cell_type": "code",
   "execution_count": null,
   "metadata": {},
   "outputs": [],
   "source": [
    "boxplot = df_full.boxplot(column=[key])"
   ]
  },
  {
   "cell_type": "markdown",
   "metadata": {},
   "source": [
    "This is a **boxplot** and its shape tells us where the median and quartiles of the dataset lie.\n",
    "\n",
    "### Comparing columns\n",
    "We can also create multiple boxplots with a single line of code. This can be useful to compare multiple assignments, exams, grades from different class, etc. \n",
    "\n",
    "Fill out the cell below with two assignments, one from the **pre_covid** dataset and one from the **covid** dataset. If the assignment names were the same in the `.csv` file, the keys would be `assignment_covid` and `assignment_pre_covid`."
   ]
  },
  {
   "cell_type": "code",
   "execution_count": null,
   "metadata": {},
   "outputs": [],
   "source": [
    "### YOUR CODE HERE ###\n",
    "pre_covid_key = ''\n",
    "covid_key = ''\n",
    "### END ###"
   ]
  },
  {
   "cell_type": "code",
   "execution_count": null,
   "metadata": {},
   "outputs": [],
   "source": [
    "boxplot = df_full.boxplot(column=[covid_key, pre_covid_key])"
   ]
  },
  {
   "cell_type": "markdown",
   "metadata": {},
   "source": [
    "### Histograms Too!\n",
    "Pandas also offers other graphing options for a `DataFrame`, this is very useful as different datasets may benefit from different visualization methods. Try running the code below to create three histograms from the three keys you chose before. Compare these to the boxplots above, what do these different visualizations reveal about the dataset?\n",
    "\n",
    "#### Bins\n",
    "Changing the number of `bins` in the histogram will adjust how many values each bar will represent"
   ]
  },
  {
   "cell_type": "code",
   "execution_count": null,
   "metadata": {},
   "outputs": [],
   "source": [
    "df_full.hist(column=[covid_key, pre_covid_key], figsize=(10, 8), bins=20)"
   ]
  }
 ],
 "metadata": {
  "kernelspec": {
   "display_name": "Python 3",
   "language": "python",
   "name": "python3"
  },
  "language_info": {
   "codemirror_mode": {
    "name": "ipython",
    "version": 3
   },
   "file_extension": ".py",
   "mimetype": "text/x-python",
   "name": "python",
   "nbconvert_exporter": "python",
   "pygments_lexer": "ipython3",
   "version": "3.8.2"
  }
 },
 "nbformat": 4,
 "nbformat_minor": 4
}
