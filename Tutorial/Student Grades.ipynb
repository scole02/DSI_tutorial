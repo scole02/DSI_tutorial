{
 "cells": [
  {
   "cell_type": "markdown",
   "metadata": {},
   "source": [
    "# Visualizing your own Data\n",
    "\n",
    "This notebook will show you how to use data from your own classes and create visualizations to help you better understand the data\n",
    "\n",
    "## Prerequisites\n",
    "\n",
    "This notebook requires you to have a `.csv`file containing info on students and their grades. Any spreadsheet created in Excel or a similiar program can be exported as a `.csv` file. To do this in excel, just click the \"Save as\"  button and select \".csv\"\n",
    "\n",
    "### Import Packages\n",
    "Run the cell below to import the `pandas` library that will be used in this notebook"
   ]
  },
  {
   "cell_type": "code",
   "execution_count": 2,
   "metadata": {},
   "outputs": [],
   "source": [
    "import pandas as pd"
   ]
  },
  {
   "cell_type": "markdown",
   "metadata": {},
   "source": [
    "### Formatting\n",
    "\n",
    "Your data should be formatted such that each row corresponds to a student, and each column corresponds to an assignment, project, final grade etc. \n",
    "\n",
    "For optimal results, ensure that the cells not including student names, **contain integers or decimal values**. Using a letter or string will not work. Also make sure that there are **no empty cells**. For example, if a student did not turn in their third lab, that cell must contain a 0 or some other number. **Any rows** containing blank cells will be **removed** later on.\n",
    "\n",
    "Below is an example of what a spreadsheet containing grades and students might look like **before** being exported as a `.csv`\n",
    "\n",
    "<img src=\"https://github.com/scole02/DSI_tutorial/blob/main/DSI_notebook_images/csv_example.png\" width=\"200\"/>\n",
    "\n",
    "\n",
    "## Importing Data\n",
    "To import your `.csv` file and use it in this notebook:\n",
    "\n",
    "1. Make sure that the `.csv` file is present in the same folder/directory as this notebook. (Refer to the `README.md` on the github page for instructions on how to **upload** files to JupyterHub.)  \n",
    "<br>  \n",
    "\n",
    "2. Fill and run the `csv_filepath` variable in the cell below with the name of your `.csv` file. (Make sure the name is within quotes -->   `\" \"` )"
   ]
  },
  {
   "cell_type": "code",
   "execution_count": 3,
   "metadata": {},
   "outputs": [],
   "source": [
    "### YOUR CODE HERE ###\n",
    "csv_filepath = \"ZW_471W20.csv\"\n",
    "### END ###"
   ]
  },
  {
   "cell_type": "markdown",
   "metadata": {},
   "source": [
    "3. Run the cell below to import the `.csv` file into a `pandas` `DataFrame` object. This is a data structure from the `pandas` library that allows for large data collections and importing files."
   ]
  },
  {
   "cell_type": "code",
   "execution_count": 4,
   "metadata": {},
   "outputs": [
    {
     "data": {
      "text/html": [
       "<div>\n",
       "<style scoped>\n",
       "    .dataframe tbody tr th:only-of-type {\n",
       "        vertical-align: middle;\n",
       "    }\n",
       "\n",
       "    .dataframe tbody tr th {\n",
       "        vertical-align: top;\n",
       "    }\n",
       "\n",
       "    .dataframe thead th {\n",
       "        text-align: right;\n",
       "    }\n",
       "</style>\n",
       "<table border=\"1\" class=\"dataframe\">\n",
       "  <thead>\n",
       "    <tr style=\"text-align: right;\">\n",
       "      <th></th>\n",
       "      <th>First name</th>\n",
       "      <th>Lab1 (Real)</th>\n",
       "      <th>Lab 2 (Real)</th>\n",
       "      <th>Lab 3 (Real)</th>\n",
       "      <th>Lab 4 (Real)</th>\n",
       "      <th>Lab 5 (Real)</th>\n",
       "      <th>lab 6 (Real)</th>\n",
       "      <th>lab 7 - diffuse (Real)</th>\n",
       "      <th>Lab 8 (Real)</th>\n",
       "      <th>lab 9 (Real)</th>\n",
       "      <th>...</th>\n",
       "      <th>midterm 1 (Real)</th>\n",
       "      <th>midterm 2 (Real)</th>\n",
       "      <th>exams total (Real)</th>\n",
       "      <th>Fp check in #1 (Real)</th>\n",
       "      <th>Fp check-in #2 required . IN PERSON IN LAB Thur 3/12 (Real)</th>\n",
       "      <th>Final project code (Real)</th>\n",
       "      <th>project web pages (Real)</th>\n",
       "      <th>final project total (Real)</th>\n",
       "      <th>participation (Real)</th>\n",
       "      <th>Weighted Mine</th>\n",
       "    </tr>\n",
       "  </thead>\n",
       "  <tbody>\n",
       "    <tr>\n",
       "      <th>0</th>\n",
       "      <td>A1</td>\n",
       "      <td>100.0</td>\n",
       "      <td>100.0</td>\n",
       "      <td>100.0</td>\n",
       "      <td>100.0</td>\n",
       "      <td>125.0</td>\n",
       "      <td>100.0</td>\n",
       "      <td>100.0</td>\n",
       "      <td>100.0</td>\n",
       "      <td>0.0</td>\n",
       "      <td>...</td>\n",
       "      <td>85.5</td>\n",
       "      <td>84.0</td>\n",
       "      <td>91.13</td>\n",
       "      <td>100.0</td>\n",
       "      <td>100.0</td>\n",
       "      <td>85.0</td>\n",
       "      <td>100.0</td>\n",
       "      <td>91.18</td>\n",
       "      <td>100.0</td>\n",
       "      <td>90.289583</td>\n",
       "    </tr>\n",
       "    <tr>\n",
       "      <th>1</th>\n",
       "      <td>A2</td>\n",
       "      <td>100.0</td>\n",
       "      <td>100.0</td>\n",
       "      <td>100.0</td>\n",
       "      <td>100.0</td>\n",
       "      <td>100.0</td>\n",
       "      <td>100.0</td>\n",
       "      <td>100.0</td>\n",
       "      <td>100.0</td>\n",
       "      <td>100.0</td>\n",
       "      <td>...</td>\n",
       "      <td>84.0</td>\n",
       "      <td>69.0</td>\n",
       "      <td>82.26</td>\n",
       "      <td>100.0</td>\n",
       "      <td>100.0</td>\n",
       "      <td>90.0</td>\n",
       "      <td>100.0</td>\n",
       "      <td>94.12</td>\n",
       "      <td>100.0</td>\n",
       "      <td>92.116667</td>\n",
       "    </tr>\n",
       "    <tr>\n",
       "      <th>2</th>\n",
       "      <td>A3</td>\n",
       "      <td>100.0</td>\n",
       "      <td>100.0</td>\n",
       "      <td>100.0</td>\n",
       "      <td>100.0</td>\n",
       "      <td>100.0</td>\n",
       "      <td>100.0</td>\n",
       "      <td>100.0</td>\n",
       "      <td>100.0</td>\n",
       "      <td>100.0</td>\n",
       "      <td>...</td>\n",
       "      <td>67.0</td>\n",
       "      <td>77.0</td>\n",
       "      <td>77.42</td>\n",
       "      <td>100.0</td>\n",
       "      <td>25.0</td>\n",
       "      <td>80.0</td>\n",
       "      <td>100.0</td>\n",
       "      <td>83.82</td>\n",
       "      <td>90.0</td>\n",
       "      <td>91.334722</td>\n",
       "    </tr>\n",
       "    <tr>\n",
       "      <th>3</th>\n",
       "      <td>A4</td>\n",
       "      <td>100.0</td>\n",
       "      <td>100.0</td>\n",
       "      <td>100.0</td>\n",
       "      <td>100.0</td>\n",
       "      <td>125.0</td>\n",
       "      <td>110.0</td>\n",
       "      <td>125.0</td>\n",
       "      <td>125.0</td>\n",
       "      <td>100.0</td>\n",
       "      <td>...</td>\n",
       "      <td>92.0</td>\n",
       "      <td>75.0</td>\n",
       "      <td>89.78</td>\n",
       "      <td>100.0</td>\n",
       "      <td>100.0</td>\n",
       "      <td>85.0</td>\n",
       "      <td>100.0</td>\n",
       "      <td>91.18</td>\n",
       "      <td>100.0</td>\n",
       "      <td>94.266667</td>\n",
       "    </tr>\n",
       "    <tr>\n",
       "      <th>4</th>\n",
       "      <td>B1</td>\n",
       "      <td>100.0</td>\n",
       "      <td>100.0</td>\n",
       "      <td>100.0</td>\n",
       "      <td>80.0</td>\n",
       "      <td>95.0</td>\n",
       "      <td>35.0</td>\n",
       "      <td>100.0</td>\n",
       "      <td>100.0</td>\n",
       "      <td>100.0</td>\n",
       "      <td>...</td>\n",
       "      <td>85.0</td>\n",
       "      <td>78.0</td>\n",
       "      <td>87.63</td>\n",
       "      <td>100.0</td>\n",
       "      <td>50.0</td>\n",
       "      <td>90.0</td>\n",
       "      <td>100.0</td>\n",
       "      <td>91.18</td>\n",
       "      <td>90.0</td>\n",
       "      <td>88.320833</td>\n",
       "    </tr>\n",
       "  </tbody>\n",
       "</table>\n",
       "<p>5 rows × 28 columns</p>\n",
       "</div>"
      ],
      "text/plain": [
       "  First name  Lab1 (Real)  Lab 2 (Real)  Lab 3 (Real)  Lab 4 (Real)  \\\n",
       "0         A1        100.0         100.0         100.0         100.0   \n",
       "1         A2        100.0         100.0         100.0         100.0   \n",
       "2         A3        100.0         100.0         100.0         100.0   \n",
       "3         A4        100.0         100.0         100.0         100.0   \n",
       "4         B1        100.0         100.0         100.0          80.0   \n",
       "\n",
       "   Lab 5 (Real)  lab 6 (Real)  lab 7 - diffuse (Real)  Lab 8 (Real)  \\\n",
       "0         125.0         100.0                   100.0         100.0   \n",
       "1         100.0         100.0                   100.0         100.0   \n",
       "2         100.0         100.0                   100.0         100.0   \n",
       "3         125.0         110.0                   125.0         125.0   \n",
       "4          95.0          35.0                   100.0         100.0   \n",
       "\n",
       "   lab 9 (Real)  ...  midterm 1 (Real)  midterm 2 (Real)  exams total (Real)  \\\n",
       "0           0.0  ...              85.5              84.0               91.13   \n",
       "1         100.0  ...              84.0              69.0               82.26   \n",
       "2         100.0  ...              67.0              77.0               77.42   \n",
       "3         100.0  ...              92.0              75.0               89.78   \n",
       "4         100.0  ...              85.0              78.0               87.63   \n",
       "\n",
       "   Fp check in #1 (Real)  \\\n",
       "0                  100.0   \n",
       "1                  100.0   \n",
       "2                  100.0   \n",
       "3                  100.0   \n",
       "4                  100.0   \n",
       "\n",
       "   Fp check-in #2 required . IN PERSON IN LAB Thur 3/12 (Real)  \\\n",
       "0                                              100.0             \n",
       "1                                              100.0             \n",
       "2                                               25.0             \n",
       "3                                              100.0             \n",
       "4                                               50.0             \n",
       "\n",
       "   Final project code (Real)  project web pages (Real)  \\\n",
       "0                       85.0                     100.0   \n",
       "1                       90.0                     100.0   \n",
       "2                       80.0                     100.0   \n",
       "3                       85.0                     100.0   \n",
       "4                       90.0                     100.0   \n",
       "\n",
       "   final project total (Real)  participation (Real)  Weighted Mine  \n",
       "0                       91.18                 100.0      90.289583  \n",
       "1                       94.12                 100.0      92.116667  \n",
       "2                       83.82                  90.0      91.334722  \n",
       "3                       91.18                 100.0      94.266667  \n",
       "4                       91.18                  90.0      88.320833  \n",
       "\n",
       "[5 rows x 28 columns]"
      ]
     },
     "execution_count": 4,
     "metadata": {},
     "output_type": "execute_result"
    }
   ],
   "source": [
    "df = pd.read_csv (csv_filepath)\n",
    "df.head()"
   ]
  },
  {
   "cell_type": "markdown",
   "metadata": {},
   "source": [
    "4. \"Clean\" the `DataFrame` by running the cell below. This cell calls the `dropna()` function that will remove all rows that contain undefined values displayed as `NaN` in the `DataFrame` when printed."
   ]
  },
  {
   "cell_type": "code",
   "execution_count": 6,
   "metadata": {},
   "outputs": [],
   "source": [
    "df = df.dropna()"
   ]
  },
  {
   "cell_type": "markdown",
   "metadata": {},
   "source": [
    "## Graphing the Dataset\n",
    "\n",
    "For this notebook we will be creating simple **box and whisker plots** that allow for viewing the mean, median, quartiles, and bounds of a particular dataset. We will create these plots for assignments in your dataset, allowing for the visualization of individual individual assignments for the entire class.\n",
    "\n",
    "### DataFrames\n",
    "A `DataFrame` can be thought of as a hybrid `list` and `dictionary`. Like a `dictionary`, `DataFrames` have **keys**. These keys refer to the **columns** in the `DataFrame`\n",
    "\n",
    "Run the cell below to see a list of all the keys present in your dataset"
   ]
  },
  {
   "cell_type": "code",
   "execution_count": 7,
   "metadata": {},
   "outputs": [
    {
     "data": {
      "text/plain": [
       "Index(['First name', 'Lab1 (Real)', 'Lab 2 (Real)', 'Lab 3 (Real)',\n",
       "       'Lab 4 (Real)', 'Lab 5 (Real)', 'lab 6 (Real)',\n",
       "       'lab 7 - diffuse (Real)', 'Lab 8 (Real)', 'lab 9 (Real)',\n",
       "       'lab 10 (Real)', 'extra credit (Real)', 'labs total (Real)',\n",
       "       'program 1 (Real)', 'program 2 (Real)',\n",
       "       'Assignment:Program 3 handin (Real)',\n",
       "       'Assignment:program 4 handin (Real)', 'programs total (Real)',\n",
       "       'midterm 1 (Real)', 'midterm 2 (Real)', 'exams total (Real)',\n",
       "       'Fp check in #1 (Real)',\n",
       "       'Fp check-in #2 required . IN PERSON IN LAB Thur 3/12 (Real)',\n",
       "       'Final project code (Real)', 'project web pages (Real)',\n",
       "       'final project total (Real)', 'participation (Real)', 'Weighted Mine'],\n",
       "      dtype='object')"
      ]
     },
     "execution_count": 7,
     "metadata": {},
     "output_type": "execute_result"
    }
   ],
   "source": [
    "df.keys()"
   ]
  },
  {
   "cell_type": "markdown",
   "metadata": {},
   "source": [
    "In the cell below, fill out the variable `third_column` using the **third key** in your dataset. (This should be the third key in the output of the cell above.)"
   ]
  },
  {
   "cell_type": "code",
   "execution_count": 8,
   "metadata": {},
   "outputs": [
    {
     "name": "stdout",
     "output_type": "stream",
     "text": [
      "0     100.0\n",
      "1     100.0\n",
      "2     100.0\n",
      "3     100.0\n",
      "4     100.0\n",
      "5     100.0\n",
      "6     100.0\n",
      "7     100.0\n",
      "8     100.0\n",
      "9     100.0\n",
      "10    100.0\n",
      "11    100.0\n",
      "12    100.0\n",
      "13    100.0\n",
      "14    100.0\n",
      "15    100.0\n",
      "16    100.0\n",
      "17    100.0\n",
      "18    100.0\n",
      "19    100.0\n",
      "20    100.0\n",
      "21    100.0\n",
      "22    100.0\n",
      "23    100.0\n",
      "24    100.0\n",
      "25    100.0\n",
      "26    100.0\n",
      "27    100.0\n",
      "28     50.0\n",
      "29    100.0\n",
      "30    100.0\n",
      "31    100.0\n",
      "32    100.0\n",
      "33    100.0\n",
      "Name: Lab 2 (Real), dtype: float64\n"
     ]
    }
   ],
   "source": [
    "### YOUR CODE HERE ###\n",
    "third_column = df['Lab 2 (Real)']\n",
    "### END ###\n",
    "print(third_column)"
   ]
  },
  {
   "cell_type": "markdown",
   "metadata": {},
   "source": [
    "Now assign a column from your dataset to the variable below, using a **key** from your dataset.  \n",
    "Since each key corresponds to a **column** this variable will contain all the values or scores for the column you choose.\n",
    "\n",
    "For optimal graphing results later, choose a column that has a wide distribution of values."
   ]
  },
  {
   "cell_type": "code",
   "execution_count": 9,
   "metadata": {
    "scrolled": true
   },
   "outputs": [
    {
     "name": "stdout",
     "output_type": "stream",
     "text": [
      "0      92.00\n",
      "1      94.25\n",
      "2     102.00\n",
      "3      96.25\n",
      "4      86.75\n",
      "5      99.00\n",
      "6      95.50\n",
      "7      98.25\n",
      "8     100.00\n",
      "9      97.50\n",
      "10     97.25\n",
      "11    100.00\n",
      "12     97.25\n",
      "13     99.25\n",
      "14     81.25\n",
      "15    100.00\n",
      "16     92.00\n",
      "17     96.00\n",
      "18     94.50\n",
      "19     93.00\n",
      "20     99.50\n",
      "21     99.00\n",
      "22    100.25\n",
      "23     94.75\n",
      "24     92.50\n",
      "25     87.50\n",
      "26     98.25\n",
      "27     96.00\n",
      "28     99.75\n",
      "29     96.50\n",
      "30     96.75\n",
      "31     93.00\n",
      "32     89.50\n",
      "33     98.50\n",
      "Name: programs total (Real), dtype: float64\n"
     ]
    }
   ],
   "source": [
    "### YOUR CODE HERE ###\n",
    "key = 'programs total (Real)'\n",
    "### END ###\n",
    "print(df[key])"
   ]
  },
  {
   "cell_type": "markdown",
   "metadata": {},
   "source": [
    "### Visualization\n",
    "Now we can visualize the dataset. This is particularly easy using `pandas` and we can simply call the `boxplot()` function present in every dataframe.  \n",
    "  \n",
    "Run the cell below to see a plot of the column that you chose in the cell above"
   ]
  },
  {
   "cell_type": "code",
   "execution_count": 11,
   "metadata": {},
   "outputs": [
    {
     "data": {
      "image/png": "[encoded data removed]",
      "text/plain": [
       "<Figure size 432x288 with 1 Axes>"
      ]
     },
     "metadata": {
      "needs_background": "light"
     },
     "output_type": "display_data"
    }
   ],
   "source": [
    "boxplot = df.boxplot(column=[key])"
   ]
  },
  {
   "cell_type": "markdown",
   "metadata": {},
   "source": [
    "This is a **boxplot** and its shape tells us where the median and quartiles of the dataset lie.\n",
    "\n",
    "### Comparing columns\n",
    "We can also create multiple boxplots with a single line of code. This can be useful to compare multiple assignments, exams, grades from different class, etc. \n",
    "\n",
    "Fill out the cell below with **three** different **keys**. For example if you want to compare the scores of the three exams in your class you would have the keys correspond to the three exams."
   ]
  },
  {
   "cell_type": "code",
   "execution_count": 76,
   "metadata": {},
   "outputs": [],
   "source": [
    "key1 = 'program 1 (Real)'\n",
    "key2 = 'program 2 (Real)'\n",
    "key3 = 'Assignment:program 4 handin (Real)'"
   ]
  },
  {
   "cell_type": "code",
   "execution_count": 74,
   "metadata": {},
   "outputs": [
    {
     "data": {
      "image/png": "[encoded data removed]",
      "text/plain": [
       "<Figure size 432x288 with 1 Axes>"
      ]
     },
     "metadata": {
      "needs_background": "light"
     },
     "output_type": "display_data"
    }
   ],
   "source": [
    "boxplot = df.boxplot(column=[key1, key2, key3])"
   ]
  },
  {
   "cell_type": "markdown",
   "metadata": {},
   "source": [
    "### Histograms Too!\n",
    "Pandas also offers other graphing options for a `DataFrame`, this is very useful as different datasets may benefit from different visualization methods. Try running the code below to create three histograms from the three keys you chose before. Compare these to the boxplots above, what do these different visualizations reveal about the dataset?"
   ]
  },
  {
   "cell_type": "code",
   "execution_count": 75,
   "metadata": {},
   "outputs": [
    {
     "data": {
      "text/plain": [
       "array([[<AxesSubplot:title={'center':'program 1 (Real)'}>,\n",
       "        <AxesSubplot:title={'center':'program 2 (Real)'}>],\n",
       "       [<AxesSubplot:title={'center':'Assignment:program 4 handin (Real)'}>,\n",
       "        <AxesSubplot:>]], dtype=object)"
      ]
     },
     "execution_count": 75,
     "metadata": {},
     "output_type": "execute_result"
    },
    {
     "data": {
      "image/png": "[encoded data removed]",
      "text/plain": [
       "<Figure size 720x720 with 4 Axes>"
      ]
     },
     "metadata": {
      "needs_background": "light"
     },
     "output_type": "display_data"
    }
   ],
   "source": [
    "df.hist(column=[key1, key2, key3], figsize=(10, 10))"
   ]
  }
 ],
 "metadata": {
  "kernelspec": {
   "display_name": "Python 3",
   "language": "python",
   "name": "python3"
  },
  "language_info": {
   "codemirror_mode": {
    "name": "ipython",
    "version": 3
   },
   "file_extension": ".py",
   "mimetype": "text/x-python",
   "name": "python",
   "nbconvert_exporter": "python",
   "pygments_lexer": "ipython3",
   "version": "3.8.2"
  }
 },
 "nbformat": 4,
 "nbformat_minor": 4
}
