{
 "cells": [
  {
   "cell_type": "markdown",
   "metadata": {},
   "source": [
    "# Jupyter Notebooks: Interactive Python without the Terminal\n",
    "The Jupyter Notebook is an open-source web application that allows you to create and share documents that contain live code, equations, visualizations and narrative text. Uses include: data cleaning and transformation, numerical simulation, statistical modeling, data visualization, machine learning, and much more.\n",
    "\n",
    "This notebook will give you a basic overview of how to use this platform"
   ]
  },
  {
   "cell_type": "markdown",
   "metadata": {},
   "source": [
    "# Script and Shell in One\n",
    "\n",
    "Jupyter notebooks allow a user to both create scripts and use the shell features of python, this means all your variables are retained across the notebook and between **cells**, but each cell is independent and must be ran individually.\n",
    "\n",
    "Cells are the building block of a notebook and can be used to write text such as this one, or create code as shown below.\n",
    "\n",
    "cells can be ran by either clicking the **\"Run\"** button marked with an arrow at the top of the dash, or by using **Shift + Enter** or **Ctrl + Enter** on the keyboard"
   ]
  },
  {
   "cell_type": "markdown",
   "metadata": {},
   "source": [
    "### Managing Cells\n",
    "Cells are independent and each cell has its own **output**, try running the cell below and output `Hello World`"
   ]
  },
  {
   "cell_type": "code",
   "execution_count": null,
   "metadata": {},
   "outputs": [],
   "source": [
    "print(\"Hello  World\")"
   ]
  },
  {
   "cell_type": "markdown",
   "metadata": {},
   "source": [
    "The number in brackets located to the left of the cell `In[XX]` indicates the order in which cells have been ran.\n",
    "\n",
    "The output of any cell can be **collpased** by double clicking on the whitespace to the left of the output. This can be helpful if a cell has a large output.\n",
    "\n",
    "Try **collapsing** the cell output below:"
   ]
  },
  {
   "cell_type": "code",
   "execution_count": null,
   "metadata": {},
   "outputs": [],
   "source": [
    "for i in range(100):\n",
    "    print(i)"
   ]
  },
  {
   "cell_type": "markdown",
   "metadata": {},
   "source": [
    "# Interactive Cells\n",
    "Another useful property of cells is their autonomy from each other. Unlike a normal python script or file, we can do **quick calculations** in our workspace just using any valid python syntax."
   ]
  },
  {
   "cell_type": "markdown",
   "metadata": {},
   "source": [
    "### Arithmetic Operators in Python\n",
    "Python is also a wonderful calculator \n",
    "\n",
    "`+` : add  \n",
    "`-`: subtract  \n",
    "`*` : multiply  \n",
    "`/` : divide  \n",
    "`**`: power  \n",
    "`%`: mod    "
   ]
  },
  {
   "cell_type": "code",
   "execution_count": null,
   "metadata": {},
   "outputs": [],
   "source": [
    "4 % 2"
   ]
  },
  {
   "cell_type": "code",
   "execution_count": null,
   "metadata": {},
   "outputs": [],
   "source": [
    "1 + 1 * 0"
   ]
  },
  {
   "cell_type": "code",
   "execution_count": null,
   "metadata": {},
   "outputs": [],
   "source": [
    "(10007 + 44785) / 4 - 7"
   ]
  },
  {
   "cell_type": "code",
   "execution_count": null,
   "metadata": {},
   "outputs": [],
   "source": [
    "\"Lonely String\""
   ]
  },
  {
   "cell_type": "markdown",
   "metadata": {},
   "source": [
    "# Variables and Functions\n",
    "Jupyter also retains all of the variables and functions used across cells. This allows for controlled environments and tweaking of functions or variables, without rerunning the entire file.\n",
    "\n",
    "Variables"
   ]
  },
  {
   "cell_type": "code",
   "execution_count": null,
   "metadata": {},
   "outputs": [],
   "source": []
  },
  {
   "cell_type": "code",
   "execution_count": null,
   "metadata": {},
   "outputs": [],
   "source": [
    "def cube(x):\n",
    "    return x * x * x"
   ]
  },
  {
   "cell_type": "code",
   "execution_count": null,
   "metadata": {},
   "outputs": [],
   "source": [
    "y = 3"
   ]
  },
  {
   "cell_type": "code",
   "execution_count": null,
   "metadata": {},
   "outputs": [],
   "source": [
    "cube(y)"
   ]
  }
 ],
 "metadata": {
  "kernelspec": {
   "display_name": "Python 3",
   "language": "python",
   "name": "python3"
  },
  "language_info": {
   "codemirror_mode": {
    "name": "ipython",
    "version": 3
   },
   "file_extension": ".py",
   "mimetype": "text/x-python",
   "name": "python",
   "nbconvert_exporter": "python",
   "pygments_lexer": "ipython3",
   "version": "3.8.2"
  }
 },
 "nbformat": 4,
 "nbformat_minor": 4
}
