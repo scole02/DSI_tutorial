{
 "cells": [
  {
   "cell_type": "markdown",
   "metadata": {},
   "source": [
    "# For Loops\n",
    "A `for` loop is used to **iterate** over a sequence."
   ]
  },
  {
   "cell_type": "code",
   "execution_count": null,
   "metadata": {},
   "outputs": [],
   "source": [
    "for i in range(5):\n",
    "    print(i)"
   ]
  },
  {
   "cell_type": "markdown",
   "metadata": {},
   "source": [
    "Using a `for` loop we can execute a set of statments once \n",
    "for each item in a list"
   ]
  },
  {
   "cell_type": "code",
   "execution_count": null,
   "metadata": {},
   "outputs": [],
   "source": [
    "list = [1,2,3,4]\n",
    "\n",
    "for item in list:\n",
    "    square = item * item\n",
    "    print(\"list[{}] squared: {}\".format(item, square))"
   ]
  },
  {
   "cell_type": "markdown",
   "metadata": {},
   "source": [
    "**Print each element in the list multiplied by 2** "
   ]
  },
  {
   "cell_type": "code",
   "execution_count": null,
   "metadata": {
    "scrolled": true
   },
   "outputs": [],
   "source": [
    "for item in list:\n",
    "    ### YOUR CODE HERE ###\n",
    "    doubled = \n",
    "    ### END ###\n",
    "    print(\"{} * 2 = {}\".format(item, double))"
   ]
  },
  {
   "cell_type": "markdown",
   "metadata": {},
   "source": [
    "Expected output:  \n",
    "  \n",
    "`1 * 2 = 2`  \n",
    "`2 * 2 = 4`  \n",
    "`3 * 2 = 6`  \n",
    "`4 * 2 = 8`  "
   ]
  },
  {
   "cell_type": "markdown",
   "metadata": {},
   "source": [
    "# If Statements\n",
    "`if` is a **conditional** statement that allows for statements to be executed only if another statement is `True`"
   ]
  },
  {
   "cell_type": "markdown",
   "metadata": {},
   "source": [
    "### Relational Operators ###\n",
    "Compare numbers and other variables in python using relational operators. These operators return either `True` or `False`.  \n",
    "\n",
    "`==`: equal  \n",
    "`!=`: not equal \n",
    "`<`: less   \n",
    "`>`: greater   \n",
    "`<=`: less than or equal  \n",
    "`>=`: greater than or equal  "
   ]
  },
  {
   "cell_type": "code",
   "execution_count": null,
   "metadata": {},
   "outputs": [],
   "source": [
    "x = 1\n",
    "y = 1\n",
    "if (1 == 1):\n",
    "    print(\"x is equal to y\")"
   ]
  },
  {
   "cell_type": "markdown",
   "metadata": {},
   "source": [
    "**Trigger the print function in the if statement below**"
   ]
  },
  {
   "cell_type": "code",
   "execution_count": null,
   "metadata": {},
   "outputs": [],
   "source": [
    "### YOUR CODE HERE ###\n",
    "x = \n",
    "y = \n",
    "### END ###\n",
    "if (x >= y):\n",
    "    print(\"x is greater than or equal to y\")"
   ]
  }
 ],
 "metadata": {
  "kernelspec": {
   "display_name": "Python 3",
   "language": "python",
   "name": "python3"
  },
  "language_info": {
   "codemirror_mode": {
    "name": "ipython",
    "version": 3
   },
   "file_extension": ".py",
   "mimetype": "text/x-python",
   "name": "python",
   "nbconvert_exporter": "python",
   "pygments_lexer": "ipython3",
   "version": "3.8.2"
  }
 },
 "nbformat": 4,
 "nbformat_minor": 4
}
