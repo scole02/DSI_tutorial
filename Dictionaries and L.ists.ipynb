{
 "cells": [
  {
   "cell_type": "markdown",
   "metadata": {},
   "source": [
    "# Dictionaries and Lists\n",
    "These **data structures** allow us to keep track of a large number of values with one variable. \n",
    "\n",
    "## Lists\n",
    "This is a list: `[1, 2, 3, 4]`"
   ]
  },
  {
   "cell_type": "code",
   "execution_count": null,
   "metadata": {},
   "outputs": [],
   "source": [
    "list = [1, 2, 3, 4]  "
   ]
  },
  {
   "cell_type": "markdown",
   "metadata": {},
   "source": [
    "To access the elements inside of a list use brackets  and a number representing the **index** of an element. \n",
    "\n",
    "Note: python list indices start at **0**  \n",
    "`list[0]` --> `1`    \n",
    "`list[1]` --> `2`"
   ]
  },
  {
   "cell_type": "code",
   "execution_count": null,
   "metadata": {},
   "outputs": [],
   "source": [
    "list[0] # `list[0]` --> `1`  "
   ]
  },
  {
   "cell_type": "markdown",
   "metadata": {},
   "source": [
    "**Print the 3rd item in** `list = [1, 2, 3, 4]`   "
   ]
  },
  {
   "cell_type": "code",
   "execution_count": null,
   "metadata": {},
   "outputs": [],
   "source": [
    "###YOUR CODE HERE###\n",
    "third_element = \n",
    "### END ###\n",
    "print(third_element)"
   ]
  },
  {
   "cell_type": "markdown",
   "metadata": {},
   "source": [
    "Expected output: `3`"
   ]
  },
  {
   "cell_type": "markdown",
   "metadata": {},
   "source": [
    "### Multi dimensional Lists\n",
    "Lists can contain other lists.\n",
    "\n",
    "`[[1, 2], [3, 4], [5, 6]] `"
   ]
  },
  {
   "cell_type": "code",
   "execution_count": null,
   "metadata": {},
   "outputs": [],
   "source": [
    "list_2d = [[1, 2], [3, 4], [5, 6]]"
   ]
  },
  {
   "cell_type": "markdown",
   "metadata": {},
   "source": [
    "Index these inner lists using another set of brackets:  \n",
    "`list_2d[0]`    --> `[1, 2]`  \n",
    "`list_2d[0][0]` --> `1`  \n",
    "`list_2d[2][1]` --> `6`\n",
    "\n",
    "**Print the 1st item in the 3rd list**    "
   ]
  },
  {
   "cell_type": "code",
   "execution_count": null,
   "metadata": {},
   "outputs": [],
   "source": [
    "###YOUR CODE HERE###\n",
    "element =  \n",
    "### END ###\n",
    "print(element)"
   ]
  },
  {
   "cell_type": "markdown",
   "metadata": {},
   "source": [
    "Expected output: `5`"
   ]
  },
  {
   "cell_type": "markdown",
   "metadata": {},
   "source": [
    "## Dictionaries\n",
    "Dictionaries store object like lists, but accessing a value in a dictionary requires a **key**.Every item has its own unique key.\n",
    "\n",
    "` {'1st': 1, '2nd': 2, '3rd':3 } `"
   ]
  },
  {
   "cell_type": "code",
   "execution_count": null,
   "metadata": {},
   "outputs": [],
   "source": [
    "dictionary = {'1st': 1, '2nd': 2, '3rd':3 }"
   ]
  },
  {
   "cell_type": "markdown",
   "metadata": {},
   "source": [
    "Keys: `'1st'`, `'2nd'`, `'3rd'` \n",
    "<br>  \n",
    "Values: `1`    , `2`    , `3`"
   ]
  },
  {
   "cell_type": "markdown",
   "metadata": {},
   "source": [
    "**Print the item associated with key:** `'3rd'` "
   ]
  },
  {
   "cell_type": "code",
   "execution_count": null,
   "metadata": {},
   "outputs": [],
   "source": [
    "###YOUR CODE HERE###\n",
    "value = \n",
    "### END ###\n",
    "print(value)"
   ]
  },
  {
   "cell_type": "markdown",
   "metadata": {},
   "source": [
    "Expected output: `3`"
   ]
  },
  {
   "cell_type": "markdown",
   "metadata": {},
   "source": [
    "Dictionaries can also contain other data structures\n",
    "\n",
    "`d = {'list': [1,2,3], 'dictionary': {'1st': 1, '2nd': 2}, '3rd':3 }`"
   ]
  },
  {
   "cell_type": "code",
   "execution_count": null,
   "metadata": {},
   "outputs": [],
   "source": [
    "d = {'list': [1,2,3], 'dictionary': {'1st': 1, '2nd': 2}, '3rd':3}"
   ]
  },
  {
   "cell_type": "markdown",
   "metadata": {},
   "source": [
    "**Print the 2nd item in the list**"
   ]
  },
  {
   "cell_type": "code",
   "execution_count": null,
   "metadata": {},
   "outputs": [],
   "source": [
    "##YOUR CODE HERE##\n",
    "second = d[\"list\"][1]\n",
    "### END ###\n",
    "print(second)"
   ]
  },
  {
   "cell_type": "markdown",
   "metadata": {},
   "source": [
    "Expected output: `2`"
   ]
  }
 ],
 "metadata": {
  "kernelspec": {
   "display_name": "Python 3",
   "language": "python",
   "name": "python3"
  },
  "language_info": {
   "codemirror_mode": {
    "name": "ipython",
    "version": 3
   },
   "file_extension": ".py",
   "mimetype": "text/x-python",
   "name": "python",
   "nbconvert_exporter": "python",
   "pygments_lexer": "ipython3",
   "version": "3.8.2"
  }
 },
 "nbformat": 4,
 "nbformat_minor": 4
}
